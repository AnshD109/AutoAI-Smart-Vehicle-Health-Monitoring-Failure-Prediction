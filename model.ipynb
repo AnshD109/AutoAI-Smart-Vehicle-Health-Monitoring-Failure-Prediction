{
 "cells": [
  {
   "cell_type": "code",
   "execution_count": 1,
   "id": "ec6d180c-c6c0-4ebe-af13-98ac50b8848d",
   "metadata": {},
   "outputs": [
    {
     "name": "stdout",
     "output_type": "stream",
     "text": [
      "Dataset Shape: (3360, 5)\n",
      "Columns: Index(['engine_temp', 'battery_voltage', 'fuel_pressure', 'oil_temp',\n",
      "       'engine_load'],\n",
      "      dtype='object')\n"
     ]
    },
    {
     "data": {
      "text/html": [
       "<div>\n",
       "<style scoped>\n",
       "    .dataframe tbody tr th:only-of-type {\n",
       "        vertical-align: middle;\n",
       "    }\n",
       "\n",
       "    .dataframe tbody tr th {\n",
       "        vertical-align: top;\n",
       "    }\n",
       "\n",
       "    .dataframe thead th {\n",
       "        text-align: right;\n",
       "    }\n",
       "</style>\n",
       "<table border=\"1\" class=\"dataframe\">\n",
       "  <thead>\n",
       "    <tr style=\"text-align: right;\">\n",
       "      <th></th>\n",
       "      <th>engine_temp</th>\n",
       "      <th>battery_voltage</th>\n",
       "      <th>fuel_pressure</th>\n",
       "      <th>oil_temp</th>\n",
       "      <th>engine_load</th>\n",
       "    </tr>\n",
       "  </thead>\n",
       "  <tbody>\n",
       "    <tr>\n",
       "      <th>0</th>\n",
       "      <td>113.58</td>\n",
       "      <td>12.05</td>\n",
       "      <td>38.38</td>\n",
       "      <td>115.27</td>\n",
       "      <td>67.57</td>\n",
       "    </tr>\n",
       "    <tr>\n",
       "      <th>1</th>\n",
       "      <td>101.47</td>\n",
       "      <td>12.26</td>\n",
       "      <td>47.59</td>\n",
       "      <td>104.84</td>\n",
       "      <td>57.23</td>\n",
       "    </tr>\n",
       "    <tr>\n",
       "      <th>2</th>\n",
       "      <td>78.58</td>\n",
       "      <td>12.72</td>\n",
       "      <td>33.74</td>\n",
       "      <td>131.49</td>\n",
       "      <td>58.41</td>\n",
       "    </tr>\n",
       "    <tr>\n",
       "      <th>3</th>\n",
       "      <td>86.87</td>\n",
       "      <td>14.12</td>\n",
       "      <td>32.86</td>\n",
       "      <td>102.95</td>\n",
       "      <td>22.56</td>\n",
       "    </tr>\n",
       "    <tr>\n",
       "      <th>4</th>\n",
       "      <td>86.03</td>\n",
       "      <td>12.44</td>\n",
       "      <td>47.13</td>\n",
       "      <td>118.65</td>\n",
       "      <td>26.16</td>\n",
       "    </tr>\n",
       "  </tbody>\n",
       "</table>\n",
       "</div>"
      ],
      "text/plain": [
       "   engine_temp  battery_voltage  fuel_pressure  oil_temp  engine_load\n",
       "0       113.58            12.05          38.38    115.27        67.57\n",
       "1       101.47            12.26          47.59    104.84        57.23\n",
       "2        78.58            12.72          33.74    131.49        58.41\n",
       "3        86.87            14.12          32.86    102.95        22.56\n",
       "4        86.03            12.44          47.13    118.65        26.16"
      ]
     },
     "execution_count": 1,
     "metadata": {},
     "output_type": "execute_result"
    }
   ],
   "source": [
    "import pandas as pd\n",
    "\n",
    "# Load the dataset\n",
    "df = pd.read_csv(\"real_time_sensor_data.csv\", names=[\"engine_temp\", \"battery_voltage\", \"fuel_pressure\", \"oil_temp\", \"engine_load\"])\n",
    "\n",
    "print(\"Dataset Shape:\", df.shape)\n",
    "print(\"Columns:\", df.columns)\n",
    "df.head()"
   ]
  },
  {
   "cell_type": "code",
   "execution_count": 2,
   "id": "1351da92-aa95-4872-af34-67b279778f31",
   "metadata": {},
   "outputs": [
    {
     "name": "stdout",
     "output_type": "stream",
     "text": [
      "failure_status\n",
      "0    1958\n",
      "1    1402\n",
      "Name: count, dtype: int64\n"
     ]
    }
   ],
   "source": [
    "df['failure_status'] = 0  # Default to no failure\n",
    "\n",
    "# Define failure conditions based on sensor readings\n",
    "df.loc[df['engine_temp'] > 110, 'failure_status'] = 1\n",
    "df.loc[df['battery_voltage'] < 11, 'failure_status'] = 1\n",
    "df.loc[df['fuel_pressure'] < 30, 'failure_status'] = 1\n",
    "df.loc[df['oil_temp'] > 130, 'failure_status'] = 1\n",
    "df.loc[df['engine_load'] > 90, 'failure_status'] = 1\n",
    "\n",
    "# Check the failure distribution\n",
    "print(df['failure_status'].value_counts())\n"
   ]
  },
  {
   "cell_type": "code",
   "execution_count": 5,
   "id": "a7448fb5-5923-415b-a6b5-05d8fc681f3f",
   "metadata": {},
   "outputs": [],
   "source": [
    "#from sklearn.ensemble import IsolationForest\n",
    "\n",
    "#iso_forest = IsolationForest(contamination=0.05, random_state=42)  # Assume 5% failures\n",
    "#df['failure_status'] = iso_forest.fit_predict(df[['engine_temp', 'battery_voltage', 'fuel_pressure', 'oil_temp', 'engine_load']])\n",
    "\n",
    "# Convert IsolationForest labels (-1 means anomaly/failure)\n",
    "#df['failure_status'] = df['failure_status'].apply(lambda x: 1 if x == -1 else 0)\n",
    "\n",
    "# Check distribution of failures\n",
    "#print(df['failure_status'].value_counts())\n"
   ]
  },
  {
   "cell_type": "code",
   "execution_count": 7,
   "id": "1b459a5a-3762-415f-92bc-9b45100ba902",
   "metadata": {},
   "outputs": [],
   "source": [
    "from sklearn.model_selection import train_test_split\n",
    "from sklearn.preprocessing import StandardScaler\n",
    "\n",
    "X = df.drop(columns=['failure_status'])  \n",
    "y = df['failure_status']\n",
    "\n",
    "X_train, X_test, y_train, y_test = train_test_split(X, y, test_size=0.2, random_state=42, stratify=y)\n"
   ]
  },
  {
   "cell_type": "code",
   "execution_count": 9,
   "id": "ad4fa711-4a68-44b1-9b6e-e6f37bda7f17",
   "metadata": {},
   "outputs": [],
   "source": [
    "# Normalize for models that require it\n",
    "scaler = StandardScaler()\n",
    "X_train_scaled = scaler.fit_transform(X_train)\n",
    "X_test_scaled = scaler.transform(X_test)"
   ]
  },
  {
   "cell_type": "code",
   "execution_count": 11,
   "id": "4dca96cc-972f-4d2c-8f76-f4ee5e9b62db",
   "metadata": {},
   "outputs": [
    {
     "name": "stdout",
     "output_type": "stream",
     "text": [
      "Logistic Regression Accuracy: 0.8229\n",
      "              precision    recall  f1-score   support\n",
      "\n",
      "           0       0.83      0.88      0.85       392\n",
      "           1       0.82      0.74      0.78       280\n",
      "\n",
      "    accuracy                           0.82       672\n",
      "   macro avg       0.82      0.81      0.82       672\n",
      "weighted avg       0.82      0.82      0.82       672\n",
      "\n",
      "Random Forest Accuracy: 1.0000\n",
      "              precision    recall  f1-score   support\n",
      "\n",
      "           0       1.00      1.00      1.00       392\n",
      "           1       1.00      1.00      1.00       280\n",
      "\n",
      "    accuracy                           1.00       672\n",
      "   macro avg       1.00      1.00      1.00       672\n",
      "weighted avg       1.00      1.00      1.00       672\n",
      "\n"
     ]
    },
    {
     "name": "stderr",
     "output_type": "stream",
     "text": [
      "C:\\ProgramData\\anaconda3\\Lib\\site-packages\\xgboost\\training.py:183: UserWarning: [14:30:10] WARNING: C:\\actions-runner\\_work\\xgboost\\xgboost\\src\\learner.cc:738: \n",
      "Parameters: { \"use_label_encoder\" } are not used.\n",
      "\n",
      "  bst.update(dtrain, iteration=i, fobj=obj)\n"
     ]
    },
    {
     "name": "stdout",
     "output_type": "stream",
     "text": [
      "XGBoost Accuracy: 1.0000\n",
      "              precision    recall  f1-score   support\n",
      "\n",
      "           0       1.00      1.00      1.00       392\n",
      "           1       1.00      1.00      1.00       280\n",
      "\n",
      "    accuracy                           1.00       672\n",
      "   macro avg       1.00      1.00      1.00       672\n",
      "weighted avg       1.00      1.00      1.00       672\n",
      "\n"
     ]
    }
   ],
   "source": [
    "from sklearn.linear_model import LogisticRegression\n",
    "from sklearn.ensemble import RandomForestClassifier\n",
    "from xgboost import XGBClassifier\n",
    "from sklearn.metrics import accuracy_score, classification_report\n",
    "\n",
    "# Train multiple models\n",
    "models = {\n",
    "    \"Logistic Regression\": LogisticRegression(),\n",
    "    \"Random Forest\": RandomForestClassifier(n_estimators=100, random_state=42),\n",
    "    \"XGBoost\": XGBClassifier(use_label_encoder=False, eval_metric='logloss')\n",
    "}\n",
    "\n",
    "for name, model in models.items():\n",
    "    model.fit(X_train, y_train)  # Train the model\n",
    "    y_pred = model.predict(X_test)  # Make predictions\n",
    "    acc = accuracy_score(y_test, y_pred)  # Evaluate accuracy\n",
    "    \n",
    "    print(f\"{name} Accuracy: {acc:.4f}\")\n",
    "    print(classification_report(y_test, y_pred))\n"
   ]
  },
  {
   "cell_type": "code",
   "execution_count": 37,
   "id": "867484e1-b804-4083-abc9-e36b33ba5551",
   "metadata": {},
   "outputs": [
    {
     "name": "stdout",
     "output_type": "stream",
     "text": [
      "Collecting xgboost==3.0.0\n",
      "  Using cached xgboost-3.0.0-py3-none-win_amd64.whl.metadata (2.1 kB)\n",
      "Requirement already satisfied: numpy in c:\\programdata\\anaconda3\\lib\\site-packages (from xgboost==3.0.0) (1.26.2)\n",
      "Requirement already satisfied: scipy in c:\\programdata\\anaconda3\\lib\\site-packages (from xgboost==3.0.0) (1.13.1)\n",
      "Using cached xgboost-3.0.0-py3-none-win_amd64.whl (150.0 MB)\n",
      "Installing collected packages: xgboost\n",
      "Successfully installed xgboost-3.0.0\n"
     ]
    }
   ],
   "source": [
    "!pip install xgboost==3.0.0"
   ]
  },
  {
   "cell_type": "code",
   "execution_count": 13,
   "id": "b6d87ad4-ad95-48ce-95b3-73285943837f",
   "metadata": {},
   "outputs": [
    {
     "name": "stdout",
     "output_type": "stream",
     "text": [
      "Random Forest Cross-Validation scores: [0.9985119 0.9985119 1.        1.        1.       ]\n",
      "Average Cross-Validation score: 0.9994047619047619\n",
      "XGBoost Cross-Validation scores: [0.99553571 0.9985119  0.99702381 0.99702381 0.99404762]\n",
      "Average Cross-Validation score: 0.9964285714285716\n"
     ]
    }
   ],
   "source": [
    "from sklearn.model_selection import cross_val_score\n",
    "import numpy as np\n",
    "\n",
    "# Random Forest model with Cross-Validation\n",
    "rf_model = RandomForestClassifier(n_estimators=100, random_state=42)\n",
    "rf_cv_scores = cross_val_score(rf_model, X, y, cv=5)\n",
    "print(\"Random Forest Cross-Validation scores:\", rf_cv_scores)\n",
    "print(\"Average Cross-Validation score:\", np.mean(rf_cv_scores))\n",
    "\n",
    "# XGBoost model with Cross-Validation\n",
    "xgb_model = XGBClassifier(n_estimators=100, random_state=42)\n",
    "xgb_cv_scores = cross_val_score(xgb_model, X, y, cv=5)\n",
    "print(\"XGBoost Cross-Validation scores:\", xgb_cv_scores)\n",
    "print(\"Average Cross-Validation score:\", np.mean(xgb_cv_scores))\n"
   ]
  },
  {
   "cell_type": "code",
   "execution_count": 15,
   "id": "8f06b803-a7f3-4a31-a172-6915324e96ce",
   "metadata": {},
   "outputs": [
    {
     "name": "stdout",
     "output_type": "stream",
     "text": [
      "Random Forest Test Accuracy: 1.0\n",
      "XGBoost Test Accuracy: 1.0\n"
     ]
    }
   ],
   "source": [
    "from sklearn.metrics import accuracy_score\n",
    "\n",
    "# Fit the Random Forest model on training data\n",
    "rf_model = RandomForestClassifier(n_estimators=100, random_state=42)\n",
    "rf_model.fit(X_train, y_train)\n",
    "\n",
    "# Fit the XGBoost model on training data\n",
    "xgb_model = XGBClassifier(n_estimators=100, random_state=42)\n",
    "xgb_model.fit(X_train, y_train)\n",
    "\n",
    "# Make predictions on the test set\n",
    "y_pred_rf_test = rf_model.predict(X_test)\n",
    "y_pred_xgb_test = xgb_model.predict(X_test)\n",
    "\n",
    "# Evaluate the final performance on the test set\n",
    "print(\"Random Forest Test Accuracy:\", accuracy_score(y_test, y_pred_rf_test))\n",
    "print(\"XGBoost Test Accuracy:\", accuracy_score(y_test, y_pred_xgb_test))\n"
   ]
  },
  {
   "cell_type": "code",
   "execution_count": 17,
   "id": "adbe4e84-e43b-4bad-b5c9-679f97c3d0c2",
   "metadata": {},
   "outputs": [
    {
     "name": "stdout",
     "output_type": "stream",
     "text": [
      "Random Forest Feature Importance: [0.37008658 0.00316269 0.01026835 0.61122578 0.00525661]\n",
      "XGBoost Feature Importance: [0.4413255  0.00071919 0.01561035 0.5407442  0.00160076]\n"
     ]
    }
   ],
   "source": [
    "# Feature importance for Random Forest\n",
    "rf_importance = rf_model.feature_importances_\n",
    "print(\"Random Forest Feature Importance:\", rf_importance)\n",
    "\n",
    "# Feature importance for XGBoost\n",
    "xgb_importance = xgb_model.feature_importances_\n",
    "print(\"XGBoost Feature Importance:\", xgb_importance)\n"
   ]
  },
  {
   "cell_type": "code",
   "execution_count": 19,
   "id": "cb922c3d-29e7-457a-a37a-fbdfb6cec265",
   "metadata": {},
   "outputs": [
    {
     "name": "stdout",
     "output_type": "stream",
     "text": [
      "Random Forest Classification Report:\n",
      "              precision    recall  f1-score   support\n",
      "\n",
      "           0       1.00      1.00      1.00       392\n",
      "           1       1.00      1.00      1.00       280\n",
      "\n",
      "    accuracy                           1.00       672\n",
      "   macro avg       1.00      1.00      1.00       672\n",
      "weighted avg       1.00      1.00      1.00       672\n",
      "\n",
      "Random Forest Confusion Matrix:\n",
      "[[392   0]\n",
      " [  0 280]]\n",
      "XGBoost Classification Report:\n",
      "              precision    recall  f1-score   support\n",
      "\n",
      "           0       1.00      1.00      1.00       392\n",
      "           1       1.00      1.00      1.00       280\n",
      "\n",
      "    accuracy                           1.00       672\n",
      "   macro avg       1.00      1.00      1.00       672\n",
      "weighted avg       1.00      1.00      1.00       672\n",
      "\n",
      "XGBoost Confusion Matrix:\n",
      "[[392   0]\n",
      " [  0 280]]\n"
     ]
    }
   ],
   "source": [
    "from sklearn.metrics import classification_report, confusion_matrix\n",
    "\n",
    "# Evaluate Random Forest\n",
    "print(\"Random Forest Classification Report:\")\n",
    "print(classification_report(y_test, y_pred_rf_test))\n",
    "print(\"Random Forest Confusion Matrix:\")\n",
    "print(confusion_matrix(y_test, y_pred_rf_test))\n",
    "\n",
    "# Evaluate XGBoost\n",
    "print(\"XGBoost Classification Report:\")\n",
    "print(classification_report(y_test, y_pred_xgb_test))\n",
    "print(\"XGBoost Confusion Matrix:\")\n",
    "print(confusion_matrix(y_test, y_pred_xgb_test))\n"
   ]
  },
  {
   "cell_type": "code",
   "execution_count": 21,
   "id": "1bf570d0-75bd-4adb-8d3f-85b3a0dbaf97",
   "metadata": {},
   "outputs": [
    {
     "name": "stdout",
     "output_type": "stream",
     "text": [
      "Fitting 5 folds for each of 81 candidates, totalling 405 fits\n",
      "Best Parameters for Random Forest: {'max_depth': None, 'min_samples_leaf': 1, 'min_samples_split': 2, 'n_estimators': 100}\n",
      "Random Forest Test Accuracy (After Tuning): 1.0\n"
     ]
    }
   ],
   "source": [
    "from sklearn.model_selection import GridSearchCV\n",
    "\n",
    "# Hyperparameter tuning for Random Forest\n",
    "param_grid_rf = {\n",
    "    'n_estimators': [100, 200, 300],\n",
    "    'max_depth': [None, 10, 20],\n",
    "    'min_samples_split': [2, 5, 10],\n",
    "    'min_samples_leaf': [1, 2, 4]\n",
    "}\n",
    "\n",
    "# Grid Search\n",
    "grid_search_rf = GridSearchCV(estimator=RandomForestClassifier(), param_grid=param_grid_rf, cv=5, n_jobs=-1, verbose=2)\n",
    "grid_search_rf.fit(X_train, y_train)\n",
    "\n",
    "# Best parameters\n",
    "print(\"Best Parameters for Random Forest:\", grid_search_rf.best_params_)\n",
    "\n",
    "# Evaluate on the test set using the best model\n",
    "best_rf_model = grid_search_rf.best_estimator_\n",
    "y_pred_rf_best = best_rf_model.predict(X_test)\n",
    "print(\"Random Forest Test Accuracy (After Tuning):\", accuracy_score(y_test, y_pred_rf_best))\n"
   ]
  },
  {
   "cell_type": "code",
   "execution_count": 22,
   "id": "0806f535-9df8-43b4-af08-13282e4f2028",
   "metadata": {},
   "outputs": [
    {
     "name": "stdout",
     "output_type": "stream",
     "text": [
      "Fitting 5 folds for each of 243 candidates, totalling 1215 fits\n",
      "Best Parameters for XGBoost: {'colsample_bytree': 0.8, 'learning_rate': 0.01, 'max_depth': 3, 'n_estimators': 200, 'subsample': 1.0}\n",
      "XGBoost Test Accuracy (After Tuning): 1.0\n"
     ]
    }
   ],
   "source": [
    "from sklearn.model_selection import GridSearchCV\n",
    "\n",
    "# Hyperparameter tuning for XGBoost\n",
    "param_grid_xgb = {\n",
    "    'n_estimators': [100, 200, 300],\n",
    "    'max_depth': [3, 5, 7],\n",
    "    'learning_rate': [0.01, 0.1, 0.2],\n",
    "    'subsample': [0.8, 0.9, 1.0],\n",
    "    'colsample_bytree': [0.8, 0.9, 1.0]\n",
    "}\n",
    "\n",
    "# Grid Search for XGBoost\n",
    "grid_search_xgb = GridSearchCV(estimator=XGBClassifier(), param_grid=param_grid_xgb, cv=5, n_jobs=-1, verbose=2)\n",
    "grid_search_xgb.fit(X_train, y_train)\n",
    "\n",
    "# Best parameters\n",
    "print(\"Best Parameters for XGBoost:\", grid_search_xgb.best_params_)\n",
    "\n",
    "# Evaluate on the test set using the best model\n",
    "best_xgb_model = grid_search_xgb.best_estimator_\n",
    "y_pred_xgb_best = best_xgb_model.predict(X_test)\n",
    "print(\"XGBoost Test Accuracy (After Tuning):\", accuracy_score(y_test, y_pred_xgb_best))\n"
   ]
  },
  {
   "cell_type": "code",
   "execution_count": 23,
   "id": "41af6e41-cc13-4bb9-be80-c22e49299720",
   "metadata": {},
   "outputs": [
    {
     "data": {
      "text/plain": [
       "['xgb_model.pkl']"
      ]
     },
     "execution_count": 23,
     "metadata": {},
     "output_type": "execute_result"
    }
   ],
   "source": [
    "import joblib\n",
    "\n",
    "joblib.dump(best_xgb_model, 'xgb_model.pkl')\n"
   ]
  },
  {
   "cell_type": "code",
   "execution_count": 27,
   "id": "02b13d18-01fe-4d18-bc6f-d6221c089028",
   "metadata": {},
   "outputs": [
    {
     "data": {
      "image/png": "[encoded data removed]",
      "text/plain": [
       "<Figure size 640x480 with 1 Axes>"
      ]
     },
     "metadata": {},
     "output_type": "display_data"
    }
   ],
   "source": [
    "import xgboost as xgb\n",
    "import matplotlib.pyplot as plt\n",
    "\n",
    "\n",
    "xgb.plot_importance(best_xgb_model)\n",
    "plt.title(\"XGBoost Feature Importance\")\n",
    "plt.show()\n"
   ]
  },
  {
   "cell_type": "code",
   "execution_count": null,
   "id": "ac76b432-2873-4f83-8b28-3edbd52c357d",
   "metadata": {},
   "outputs": [],
   "source": []
  }
 ],
 "metadata": {
  "kernelspec": {
   "display_name": "Python 3 (ipykernel)",
   "language": "python",
   "name": "python3"
  },
  "language_info": {
   "codemirror_mode": {
    "name": "ipython",
    "version": 3
   },
   "file_extension": ".py",
   "mimetype": "text/x-python",
   "name": "python",
   "nbconvert_exporter": "python",
   "pygments_lexer": "ipython3",
   "version": "3.12.4"
  }
 },
 "nbformat": 4,
 "nbformat_minor": 5
}
